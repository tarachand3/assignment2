{
 "cells": [
  {
   "cell_type": "code",
   "execution_count": null,
   "id": "6f54dbbf",
   "metadata": {},
   "outputs": [],
   "source": [
    "Q1. Write a program to accept percentage from user and display the grade according to the given criteria\n",
    "Ans:"
   ]
  },
  {
   "cell_type": "code",
   "execution_count": 2,
   "id": "52c00234",
   "metadata": {},
   "outputs": [
    {
     "name": "stdout",
     "output_type": "stream",
     "text": [
      "Enter your percentage: 75.23\n",
      "Grade: C\n"
     ]
    }
   ],
   "source": [
    "marks = float(input(\"Enter your marks in percentage: \"))\n",
    "if marks > 90:\n",
    "    print(\"Grade: A\")\n",
    "elif marks > 80 and marks <= 90:\n",
    "    print(\"Grade: B\")\n",
    "elif marks >= 60 and marks <= 80:\n",
    "    print(\"Grade: C\")\n",
    "else:\n",
    "    print(\"Grade: D\")"
   ]
  },
  {
   "cell_type": "code",
   "execution_count": null,
   "id": "cf99d653",
   "metadata": {},
   "outputs": [],
   "source": [
    "Q2. Write a program to accept the cost price of a bike and display the road tax to be paid according to the given criteria:\n",
    "Ans:"
   ]
  },
  {
   "cell_type": "code",
   "execution_count": 5,
   "id": "345b97c1",
   "metadata": {},
   "outputs": [
    {
     "name": "stdout",
     "output_type": "stream",
     "text": [
      "Enter you bike price: 50000\n",
      "YOu have ot pay 5% road tax i.e.:  2500.0\n"
     ]
    }
   ],
   "source": [
    "cost = float(input(\"Enter you bike price: \"))\n",
    "if cost > 100000:\n",
    "    print(\"You have to pay 15% road tax i.e.: \", cost * 0.15)\n",
    "elif cost > 50000 and cost <=100000:\n",
    "    print(\"You have to pay 10% road tax i.e.: \", cost * 0.1)\n",
    "else :\n",
    "    print(\"YOu have ot pay 5% road tax i.e.: \", cost * 0.05)\n",
    "    "
   ]
  },
  {
   "cell_type": "code",
   "execution_count": null,
   "id": "e6f74390",
   "metadata": {},
   "outputs": [],
   "source": [
    "Q3. Accept any city from the user and display monuments of that city.\n",
    "Ans:"
   ]
  },
  {
   "cell_type": "code",
   "execution_count": 9,
   "id": "2ad821e8",
   "metadata": {},
   "outputs": [
    {
     "name": "stdout",
     "output_type": "stream",
     "text": [
      "Enter city name: jaipur\n",
      "Monument in jaipur : Jal Mahal\n"
     ]
    }
   ],
   "source": [
    "city = input(\"Enter city name: \").lower()\n",
    "if city == \"delhi\":\n",
    "    print(\"Monument in\",city,\": Red Fort\")\n",
    "elif city == \"agra\":\n",
    "    print(\"Monument in\",city,\": Taj Mahal\")\n",
    "elif city == \"jaipur\":\n",
    "    print(\"Monument in\",city,\": Jal Mahal\")\n",
    "else:\n",
    "    print(\"No data found for\",city)"
   ]
  },
  {
   "cell_type": "code",
   "execution_count": null,
   "id": "047c840b",
   "metadata": {},
   "outputs": [],
   "source": [
    "Q4. Check how many times a given number can be divided by 3 before it is less than or equal to 10.\n",
    "Ans:"
   ]
  },
  {
   "cell_type": "code",
   "execution_count": 10,
   "id": "ef77934d",
   "metadata": {},
   "outputs": [
    {
     "name": "stdout",
     "output_type": "stream",
     "text": [
      "Enter a number: 50\n",
      "Entered number can be divisible 13 times.\n"
     ]
    }
   ],
   "source": [
    "num = int(input(\"Enter a number: \"))\n",
    "divisible_count = 0\n",
    "for i in range(num, 9, -1):\n",
    "    if i%3 == 0:\n",
    "        divisible_count += 1\n",
    "print(\"Entered number can be divisible\",divisible_count,\"times.\")\n"
   ]
  },
  {
   "cell_type": "code",
   "execution_count": null,
   "id": "3903bbbf",
   "metadata": {},
   "outputs": [],
   "source": [
    "Q4. Why and When to use While loop in Python give a detailed description with\n",
    "    example.\n",
    "Ans:-> In Python, while loop is used to execute a block of code repeatedly as long as a specified condition is met. The loop \n",
    "       continues to run as long as the condition is True.\n",
    "        \n",
    "    -> The while loop is used in situations where the number of required loop \n",
    "        iterations is unknown."
   ]
  },
  {
   "cell_type": "code",
   "execution_count": 11,
   "id": "ef01e1c2",
   "metadata": {},
   "outputs": [
    {
     "name": "stdout",
     "output_type": "stream",
     "text": [
      "1\n",
      "2\n",
      "3\n",
      "4\n",
      "5\n",
      "6\n",
      "7\n",
      "8\n",
      "9\n",
      "10\n"
     ]
    }
   ],
   "source": [
    "# Here is an example to demonstrate the use of while loop:\n",
    "count = 1\n",
    "\n",
    "while count <= 10:\n",
    "  print(count)\n",
    "  count = count + 1"
   ]
  },
  {
   "cell_type": "code",
   "execution_count": null,
   "id": "6aeb381b",
   "metadata": {},
   "outputs": [],
   "source": [
    "-> In the above example, the while loop runs as long as the value of count is less than or equal to 10. At each iteration of \n",
    "   the loop, the value of count is incremented by 1, and the current value is printed.\n",
    "\n",
    "-> It is important to make sure that the condition inside the while loop eventually becomes false, otherwise the loop will run \n",
    "   forever and cause an infinite loop.\n",
    "\n",
    "-> You can use the while loop whenever you need to repeat a block of code as long as a certain condition is met. For example, \n",
    "   you can use a while loop to read input from the user until they provide a valid response, or to keep repeating a task until \n",
    "    a certain condition is met."
   ]
  },
  {
   "cell_type": "code",
   "execution_count": null,
   "id": "15616e96",
   "metadata": {},
   "outputs": [],
   "source": [
    "Q6. Use nested while loop to print 3 different pattern.\n",
    "Ans:"
   ]
  },
  {
   "cell_type": "code",
   "execution_count": 12,
   "id": "e70cba82",
   "metadata": {},
   "outputs": [
    {
     "name": "stdout",
     "output_type": "stream",
     "text": [
      "*\n",
      "**\n",
      "***\n",
      "****\n",
      "*****\n"
     ]
    }
   ],
   "source": [
    "# Pattern 1\n",
    "i = 1\n",
    "while i <= 5:\n",
    "    j = 1\n",
    "    while j <= i:\n",
    "        print(\"*\", end=\"\")\n",
    "        j = j + 1\n",
    "    print(\"\")\n",
    "    i = i + 1"
   ]
  },
  {
   "cell_type": "code",
   "execution_count": 13,
   "id": "0b486099",
   "metadata": {},
   "outputs": [
    {
     "name": "stdout",
     "output_type": "stream",
     "text": [
      "*****\n",
      "****\n",
      "***\n",
      "**\n",
      "*\n"
     ]
    }
   ],
   "source": [
    "# Pattern 2\n",
    "i = 5\n",
    "while i >= 1:\n",
    "    j = 1\n",
    "    while j <= i:\n",
    "        print(\"*\", end=\"\")\n",
    "        j = j + 1\n",
    "    print(\"\")\n",
    "    i = i - 1"
   ]
  },
  {
   "cell_type": "code",
   "execution_count": 14,
   "id": "d998bc15",
   "metadata": {},
   "outputs": [
    {
     "name": "stdout",
     "output_type": "stream",
     "text": [
      "*****\n",
      " ****\n",
      "  ***\n",
      "   **\n",
      "    *\n"
     ]
    }
   ],
   "source": [
    "# Pattern 3\n",
    "i = 5\n",
    "while i >= 1:\n",
    "    spaces = 1\n",
    "    while spaces <= 5 - i:\n",
    "        print(\" \", end=\"\")\n",
    "        spaces = spaces + 1\n",
    "    j = 1\n",
    "    while j <= i:\n",
    "        print(\"*\", end=\"\")\n",
    "        j = j + 1\n",
    "    print(\"\")\n",
    "    i = i - 1"
   ]
  },
  {
   "cell_type": "code",
   "execution_count": null,
   "id": "62501dfe",
   "metadata": {},
   "outputs": [],
   "source": [
    "Q7. Reverse a while loop to display numbers from 10 to 1.\n",
    "Ans:"
   ]
  },
  {
   "cell_type": "code",
   "execution_count": 15,
   "id": "ed14c397",
   "metadata": {},
   "outputs": [
    {
     "name": "stdout",
     "output_type": "stream",
     "text": [
      "10\n",
      "9\n",
      "8\n",
      "7\n",
      "6\n",
      "5\n",
      "4\n",
      "3\n",
      "2\n",
      "1\n"
     ]
    }
   ],
   "source": [
    "count = 10\n",
    "while count >= 1:\n",
    "  print(count)\n",
    "  count = count - 1"
   ]
  },
  {
   "cell_type": "code",
   "execution_count": null,
   "id": "3599f585",
   "metadata": {},
   "outputs": [],
   "source": []
  }
 ],
 "metadata": {
  "kernelspec": {
   "display_name": "Python 3 (ipykernel)",
   "language": "python",
   "name": "python3"
  },
  "language_info": {
   "codemirror_mode": {
    "name": "ipython",
    "version": 3
   },
   "file_extension": ".py",
   "mimetype": "text/x-python",
   "name": "python",
   "nbconvert_exporter": "python",
   "pygments_lexer": "ipython3",
   "version": "3.11.1"
  }
 },
 "nbformat": 4,
 "nbformat_minor": 5
}
